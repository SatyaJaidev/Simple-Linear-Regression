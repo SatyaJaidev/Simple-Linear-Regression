{
  "nbformat": 4,
  "nbformat_minor": 0,
  "metadata": {
    "colab": {
      "name": "simple_linear_regression.ipynb",
      "provenance": []
    },
    "kernelspec": {
      "name": "python3",
      "display_name": "Python 3"
    },
    "language_info": {
      "name": "python"
    }
  },
  "cells": [
    {
      "cell_type": "markdown",
      "metadata": {
        "id": "GTxmuMFslz_5"
      },
      "source": [
        "Build a simple linear regression model to predict the umbrella sold using the amount of rainfall [SLR dataset given]. 1. Create a frame for the dataset and print its description and shape. 2. Using statsmodel.api develop a simple linear regression model between umbrella sold and amount of rainfall. 3. Print the estimated model parameters on the training set. 4. Discuss the performance of your model and the relevance of the input variables based on the model summary. 5. Calculate the influence of each observation using cooks distance. Plot a stem graph for the same."
      ]
    },
    {
      "cell_type": "code",
      "metadata": {
        "id": "L3nchWoWlWwo"
      },
      "source": [
        ""
      ],
      "execution_count": null,
      "outputs": []
    },
    {
      "cell_type": "code",
      "metadata": {
        "id": "Nh-mmysXfMv2"
      },
      "source": [
        "import pandas as pd\n",
        "data = pd.read_csv(\"/content/sample_data/SLR dataset.csv\")"
      ],
      "execution_count": null,
      "outputs": []
    },
    {
      "cell_type": "code",
      "metadata": {
        "colab": {
          "base_uri": "https://localhost:8080/",
          "height": 206
        },
        "id": "9OijJfnsgV2j",
        "outputId": "467801f2-044d-4b1f-c3ce-023522ff4160"
      },
      "source": [
        "data.head()"
      ],
      "execution_count": null,
      "outputs": [
        {
          "output_type": "execute_result",
          "data": {
            "text/html": [
              "<div>\n",
              "<style scoped>\n",
              "    .dataframe tbody tr th:only-of-type {\n",
              "        vertical-align: middle;\n",
              "    }\n",
              "\n",
              "    .dataframe tbody tr th {\n",
              "        vertical-align: top;\n",
              "    }\n",
              "\n",
              "    .dataframe thead th {\n",
              "        text-align: right;\n",
              "    }\n",
              "</style>\n",
              "<table border=\"1\" class=\"dataframe\">\n",
              "  <thead>\n",
              "    <tr style=\"text-align: right;\">\n",
              "      <th></th>\n",
              "      <th>S.No</th>\n",
              "      <th>Rainfall (mm)</th>\n",
              "      <th>Umbrellas sold</th>\n",
              "    </tr>\n",
              "  </thead>\n",
              "  <tbody>\n",
              "    <tr>\n",
              "      <th>0</th>\n",
              "      <td>1</td>\n",
              "      <td>82.0</td>\n",
              "      <td>15</td>\n",
              "    </tr>\n",
              "    <tr>\n",
              "      <th>1</th>\n",
              "      <td>2</td>\n",
              "      <td>92.5</td>\n",
              "      <td>25</td>\n",
              "    </tr>\n",
              "    <tr>\n",
              "      <th>2</th>\n",
              "      <td>3</td>\n",
              "      <td>83.2</td>\n",
              "      <td>17</td>\n",
              "    </tr>\n",
              "    <tr>\n",
              "      <th>3</th>\n",
              "      <td>4</td>\n",
              "      <td>97.7</td>\n",
              "      <td>28</td>\n",
              "    </tr>\n",
              "    <tr>\n",
              "      <th>4</th>\n",
              "      <td>5</td>\n",
              "      <td>131.9</td>\n",
              "      <td>41</td>\n",
              "    </tr>\n",
              "  </tbody>\n",
              "</table>\n",
              "</div>"
            ],
            "text/plain": [
              "   S.No  Rainfall (mm)  Umbrellas sold\n",
              "0     1           82.0              15\n",
              "1     2           92.5              25\n",
              "2     3           83.2              17\n",
              "3     4           97.7              28\n",
              "4     5          131.9              41"
            ]
          },
          "metadata": {},
          "execution_count": 3
        }
      ]
    },
    {
      "cell_type": "code",
      "metadata": {
        "colab": {
          "base_uri": "https://localhost:8080/"
        },
        "id": "KhLOiegWgoUI",
        "outputId": "326e1baf-9769-405c-da9d-8261ad34c0c5"
      },
      "source": [
        "data.info()"
      ],
      "execution_count": null,
      "outputs": [
        {
          "output_type": "stream",
          "name": "stdout",
          "text": [
            "<class 'pandas.core.frame.DataFrame'>\n",
            "RangeIndex: 24 entries, 0 to 23\n",
            "Data columns (total 3 columns):\n",
            " #   Column          Non-Null Count  Dtype  \n",
            "---  ------          --------------  -----  \n",
            " 0   S.No            24 non-null     int64  \n",
            " 1   Rainfall (mm)   24 non-null     float64\n",
            " 2   Umbrellas sold  24 non-null     int64  \n",
            "dtypes: float64(1), int64(2)\n",
            "memory usage: 704.0 bytes\n"
          ]
        }
      ]
    },
    {
      "cell_type": "code",
      "metadata": {
        "colab": {
          "base_uri": "https://localhost:8080/"
        },
        "id": "BaKHsMfkg-Dk",
        "outputId": "db78a879-b328-49df-c8f0-b32c77f746d8"
      },
      "source": [
        "data.shape"
      ],
      "execution_count": null,
      "outputs": [
        {
          "output_type": "execute_result",
          "data": {
            "text/plain": [
              "(24, 3)"
            ]
          },
          "metadata": {},
          "execution_count": 5
        }
      ]
    },
    {
      "cell_type": "code",
      "metadata": {
        "colab": {
          "base_uri": "https://localhost:8080/"
        },
        "id": "uJSvo2Yjhhtx",
        "outputId": "7bab0fd5-1648-42c1-c861-22db5d0a9860"
      },
      "source": [
        "data.isnull().sum()"
      ],
      "execution_count": null,
      "outputs": [
        {
          "output_type": "execute_result",
          "data": {
            "text/plain": [
              "S.No              0\n",
              "Rainfall (mm)     0\n",
              "Umbrellas sold    0\n",
              "dtype: int64"
            ]
          },
          "metadata": {},
          "execution_count": 6
        }
      ]
    },
    {
      "cell_type": "code",
      "metadata": {
        "id": "tB5mX6Neh7Py"
      },
      "source": [
        "import statsmodels.api as sm\n",
        "x = sm.add_constant(data['Rainfall (mm)'])"
      ],
      "execution_count": null,
      "outputs": []
    },
    {
      "cell_type": "code",
      "metadata": {
        "colab": {
          "base_uri": "https://localhost:8080/",
          "height": 206
        },
        "id": "XE7ctWDViQJT",
        "outputId": "70e8804f-4619-42b7-b88f-8b03a81de280"
      },
      "source": [
        "x.head()"
      ],
      "execution_count": null,
      "outputs": [
        {
          "output_type": "execute_result",
          "data": {
            "text/html": [
              "<div>\n",
              "<style scoped>\n",
              "    .dataframe tbody tr th:only-of-type {\n",
              "        vertical-align: middle;\n",
              "    }\n",
              "\n",
              "    .dataframe tbody tr th {\n",
              "        vertical-align: top;\n",
              "    }\n",
              "\n",
              "    .dataframe thead th {\n",
              "        text-align: right;\n",
              "    }\n",
              "</style>\n",
              "<table border=\"1\" class=\"dataframe\">\n",
              "  <thead>\n",
              "    <tr style=\"text-align: right;\">\n",
              "      <th></th>\n",
              "      <th>const</th>\n",
              "      <th>Rainfall (mm)</th>\n",
              "    </tr>\n",
              "  </thead>\n",
              "  <tbody>\n",
              "    <tr>\n",
              "      <th>0</th>\n",
              "      <td>1.0</td>\n",
              "      <td>82.0</td>\n",
              "    </tr>\n",
              "    <tr>\n",
              "      <th>1</th>\n",
              "      <td>1.0</td>\n",
              "      <td>92.5</td>\n",
              "    </tr>\n",
              "    <tr>\n",
              "      <th>2</th>\n",
              "      <td>1.0</td>\n",
              "      <td>83.2</td>\n",
              "    </tr>\n",
              "    <tr>\n",
              "      <th>3</th>\n",
              "      <td>1.0</td>\n",
              "      <td>97.7</td>\n",
              "    </tr>\n",
              "    <tr>\n",
              "      <th>4</th>\n",
              "      <td>1.0</td>\n",
              "      <td>131.9</td>\n",
              "    </tr>\n",
              "  </tbody>\n",
              "</table>\n",
              "</div>"
            ],
            "text/plain": [
              "   const  Rainfall (mm)\n",
              "0    1.0           82.0\n",
              "1    1.0           92.5\n",
              "2    1.0           83.2\n",
              "3    1.0           97.7\n",
              "4    1.0          131.9"
            ]
          },
          "metadata": {},
          "execution_count": 9
        }
      ]
    },
    {
      "cell_type": "code",
      "metadata": {
        "id": "C-tKSKkOiRQh"
      },
      "source": [
        "y = data['Umbrellas sold']"
      ],
      "execution_count": null,
      "outputs": []
    },
    {
      "cell_type": "code",
      "metadata": {
        "colab": {
          "base_uri": "https://localhost:8080/"
        },
        "id": "SOfObcJtiZei",
        "outputId": "6c130ab7-c994-4a1a-d749-c43a499f7f2b"
      },
      "source": [
        "y.head()"
      ],
      "execution_count": null,
      "outputs": [
        {
          "output_type": "execute_result",
          "data": {
            "text/plain": [
              "0    15\n",
              "1    25\n",
              "2    17\n",
              "3    28\n",
              "4    41\n",
              "Name: Umbrellas sold, dtype: int64"
            ]
          },
          "metadata": {},
          "execution_count": 11
        }
      ]
    },
    {
      "cell_type": "code",
      "metadata": {
        "id": "RPytxZtIiaxW"
      },
      "source": [
        "from sklearn.model_selection import train_test_split\n",
        "train_x,test_x,train_y,test_y = train_test_split(x,y,train_size = 0.8,random_state=100)"
      ],
      "execution_count": null,
      "outputs": []
    },
    {
      "cell_type": "code",
      "metadata": {
        "colab": {
          "base_uri": "https://localhost:8080/"
        },
        "id": "fUiFATkvilwT",
        "outputId": "ae66dcb5-e907-48ef-b689-86f6f22bf807"
      },
      "source": [
        "train_x.shape"
      ],
      "execution_count": null,
      "outputs": [
        {
          "output_type": "execute_result",
          "data": {
            "text/plain": [
              "(19, 2)"
            ]
          },
          "metadata": {},
          "execution_count": 13
        }
      ]
    },
    {
      "cell_type": "code",
      "metadata": {
        "colab": {
          "base_uri": "https://localhost:8080/"
        },
        "id": "kh-3FQLHinyw",
        "outputId": "94570ca1-fbb4-4806-bdf8-75dc03b94a90"
      },
      "source": [
        "test_x.shape"
      ],
      "execution_count": null,
      "outputs": [
        {
          "output_type": "execute_result",
          "data": {
            "text/plain": [
              "(5, 2)"
            ]
          },
          "metadata": {},
          "execution_count": 14
        }
      ]
    },
    {
      "cell_type": "code",
      "metadata": {
        "id": "4PFQLhxpiqDK"
      },
      "source": [
        "data_lm = sm.OLS(train_y,train_x).fit()"
      ],
      "execution_count": null,
      "outputs": []
    },
    {
      "cell_type": "code",
      "metadata": {
        "colab": {
          "base_uri": "https://localhost:8080/"
        },
        "id": "f5u-oWTgis_3",
        "outputId": "7b6fb9e6-a9f3-4cc5-c8a9-e97a94f1a462"
      },
      "source": [
        "print(data_lm.params)"
      ],
      "execution_count": null,
      "outputs": [
        {
          "output_type": "stream",
          "name": "stdout",
          "text": [
            "const           -23.842323\n",
            "Rainfall (mm)     0.496956\n",
            "dtype: float64\n"
          ]
        }
      ]
    },
    {
      "cell_type": "code",
      "metadata": {
        "colab": {
          "base_uri": "https://localhost:8080/"
        },
        "id": "MwhwzRQPivfQ",
        "outputId": "d2d2fd4f-fff3-4e02-c80a-b8fcc47afb5a"
      },
      "source": [
        "print(data_lm.summary2())"
      ],
      "execution_count": null,
      "outputs": [
        {
          "output_type": "stream",
          "name": "stdout",
          "text": [
            "                 Results: Ordinary least squares\n",
            "=================================================================\n",
            "Model:              OLS              Adj. R-squared:     0.922   \n",
            "Dependent Variable: Umbrellas sold   AIC:                102.2129\n",
            "Date:               2021-11-26 04:48 BIC:                104.1018\n",
            "No. Observations:   19               Log-Likelihood:     -49.106 \n",
            "Df Model:           1                F-statistic:        212.3   \n",
            "Df Residuals:       17               Prob (F-statistic): 4.90e-11\n",
            "R-squared:          0.926            Scale:              11.501  \n",
            "-----------------------------------------------------------------\n",
            "                Coef.   Std.Err.    t    P>|t|   [0.025   0.975] \n",
            "-----------------------------------------------------------------\n",
            "const          -23.8423   3.8501 -6.1926 0.0000 -31.9654 -15.7192\n",
            "Rainfall (mm)    0.4970   0.0341 14.5722 0.0000   0.4250   0.5689\n",
            "-----------------------------------------------------------------\n",
            "Omnibus:               0.451        Durbin-Watson:          1.687\n",
            "Prob(Omnibus):         0.798        Jarque-Bera (JB):       0.551\n",
            "Skew:                  -0.120       Prob(JB):               0.759\n",
            "Kurtosis:              2.201        Condition No.:          559  \n",
            "=================================================================\n",
            "\n"
          ]
        },
        {
          "output_type": "stream",
          "name": "stderr",
          "text": [
            "/usr/local/lib/python3.7/dist-packages/scipy/stats/stats.py:1535: UserWarning: kurtosistest only valid for n>=20 ... continuing anyway, n=19\n",
            "  \"anyway, n=%i\" % int(n))\n"
          ]
        }
      ]
    },
    {
      "cell_type": "code",
      "metadata": {
        "colab": {
          "base_uri": "https://localhost:8080/",
          "height": 295
        },
        "id": "qV9Ob4MLi0lJ",
        "outputId": "75553756-b8de-4ee7-e8da-a4bf9dd3a28a"
      },
      "source": [
        "import matplotlib.pyplot as plt\n",
        "def get_std_values(vals):\n",
        "  return(vals - vals.mean())/vals.std()\n",
        "x_axis = get_std_values(data_lm.fittedvalues)\n",
        "y_axis = get_std_values(data_lm.resid)\n",
        "plt.scatter(x_axis,y_axis)\n",
        "plt.xlabel(\"Standardized Predicted values\")\n",
        "plt.ylabel(\"Standardized Residual values\")\n",
        "plt.title(\"Residual Plot\")\n",
        "plt.show()"
      ],
      "execution_count": null,
      "outputs": [
        {
          "output_type": "display_data",
          "data": {
            "image/png": "[encoded data removed]",
            "text/plain": [
              "<Figure size 432x288 with 1 Axes>"
            ]
          },
          "metadata": {
            "needs_background": "light"
          }
        }
      ]
    },
    {
      "cell_type": "code",
      "metadata": {
        "id": "mMQgzrahjb0B",
        "colab": {
          "base_uri": "https://localhost:8080/",
          "height": 351
        },
        "outputId": "a1165d65-a50e-4b5a-c797-33fd847c2949"
      },
      "source": [
        "import numpy as np\n",
        "mba_influence = data_lm.get_influence()\n",
        "(c,p) = mba_influence.cooks_distance\n",
        "plt.stem(np.arange(len(train_x)),np.round(c,3))\n",
        "plt.xlabel(\"Row index\")\n",
        "plt.ylabel(\"Cooks Distance\")\n",
        "plt.show"
      ],
      "execution_count": null,
      "outputs": [
        {
          "output_type": "stream",
          "name": "stderr",
          "text": [
            "/usr/local/lib/python3.7/dist-packages/ipykernel_launcher.py:4: UserWarning: In Matplotlib 3.3 individual lines on a stem plot will be added as a LineCollection instead of individual lines. This significantly improves the performance of a stem plot. To remove this warning and switch to the new behaviour, set the \"use_line_collection\" keyword argument to True.\n",
            "  after removing the cwd from sys.path.\n"
          ]
        },
        {
          "output_type": "execute_result",
          "data": {
            "text/plain": [
              "<function matplotlib.pyplot.show>"
            ]
          },
          "metadata": {},
          "execution_count": 21
        },
        {
          "output_type": "display_data",
          "data": {
            "image/png": "[encoded data removed]",
            "text/plain": [
              "<Figure size 432x288 with 1 Axes>"
            ]
          },
          "metadata": {
            "needs_background": "light"
          }
        }
      ]
    }
  ]
}